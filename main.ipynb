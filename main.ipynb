{
 "cells": [
  {
   "cell_type": "markdown",
   "id": "56251346",
   "metadata": {},
   "source": [
    "### Project begins"
   ]
  },
  {
   "cell_type": "code",
   "execution_count": 2,
   "id": "46f5cbdc",
   "metadata": {},
   "outputs": [
    {
     "name": "stdout",
     "output_type": "stream",
     "text": [
      "(8400, 2500)\n"
     ]
    }
   ],
   "source": [
    "import numpy as np\n",
    "import pandas as pd\n",
    "import matplotlib.pyplot as plt\n",
    "\n",
    "data = np.loadtxt('data_total.txt')\n",
    "print(data.shape)"
   ]
  },
  {
   "cell_type": "code",
   "execution_count": 3,
   "id": "09abc4d7",
   "metadata": {
    "scrolled": true
   },
   "outputs": [],
   "source": [
    "ss_classes = []\n",
    "# Y = np.zeros([7*12*100,7*12])\n",
    "# ct1 = 0\n",
    "# ct2 = 0\n",
    "# for ii in range(1,8):\n",
    "#     for jj in range(1,13):\n",
    "#         ss_classes.append(str(ii)+str(jj))\n",
    "#         result = np.zeros([1,7])\n",
    "#         result[0,ct1] = 1\n",
    "#         ct1 += 1\n",
    "#         for kk in range(1,101):\n",
    "#             Y[ct2] = result\n",
    "#             ct2 += 1\n",
    "\n",
    "Y = np.zeros([7*12*100,7])\n",
    "ct1 = -1\n",
    "ct2 = 0\n",
    "for ii in range(1,8):\n",
    "    ct1 += 1\n",
    "    for jj in range(1,13):\n",
    "        ss_classes.append(str(ii)+str(jj))\n",
    "        result = np.zeros([1,7])\n",
    "        result[0,ct1] = 1\n",
    "        for kk in range(1,101):\n",
    "            Y[ct2] = result\n",
    "            ct2 += 1"
   ]
  },
  {
   "cell_type": "code",
   "execution_count": 4,
   "id": "3a03c417",
   "metadata": {},
   "outputs": [
    {
     "name": "stdout",
     "output_type": "stream",
     "text": [
      "(8400, 2500)\n",
      "(8400, 7)\n"
     ]
    }
   ],
   "source": [
    "X = data\n",
    "y = Y\n",
    "print(X.shape)\n",
    "print(y.shape)"
   ]
  },
  {
   "cell_type": "code",
   "execution_count": 39,
   "id": "634f56ad",
   "metadata": {},
   "outputs": [
    {
     "data": {
      "text/plain": [
       "array([254., 254., 254., ..., 254., 254., 254.])"
      ]
     },
     "execution_count": 39,
     "metadata": {},
     "output_type": "execute_result"
    }
   ],
   "source": [
    "X[99]"
   ]
  },
  {
   "cell_type": "code",
   "execution_count": 47,
   "id": "b3d34cc1",
   "metadata": {},
   "outputs": [
    {
     "data": {
      "text/plain": [
       "array([0., 1., 0., 0., 0., 0., 0.])"
      ]
     },
     "execution_count": 47,
     "metadata": {},
     "output_type": "execute_result"
    }
   ],
   "source": [
    "y[1300]"
   ]
  },
  {
   "cell_type": "code",
   "execution_count": 5,
   "id": "b4f3d38c",
   "metadata": {},
   "outputs": [],
   "source": [
    "from sklearn.model_selection import train_test_split\n",
    "X_train, X_test, y_train, y_test = train_test_split(X, y, test_size=0.1, random_state=0)"
   ]
  },
  {
   "cell_type": "code",
   "execution_count": 6,
   "id": "f766b66a",
   "metadata": {},
   "outputs": [],
   "source": [
    "X_train_img = X_train.reshape(X_train.shape[0],50,50)/255.0\n",
    "\n",
    "X_test_img = X_test.reshape(X_test.shape[0],50,50)/255.0"
   ]
  },
  {
   "cell_type": "code",
   "execution_count": 7,
   "id": "7638c2ee",
   "metadata": {},
   "outputs": [
    {
     "name": "stdout",
     "output_type": "stream",
     "text": [
      "(7560, 50, 50) (7560, 7)\n",
      "(840, 50, 50) (840, 7)\n"
     ]
    }
   ],
   "source": [
    "print(X_train_img.shape,y_train.shape)\n",
    "print(X_test_img.shape,y_test.shape)"
   ]
  },
  {
   "cell_type": "code",
   "execution_count": 8,
   "id": "35e1731c",
   "metadata": {},
   "outputs": [],
   "source": [
    "from sklearn.model_selection import train_test_split\n",
    "import numpy as np\n",
    "from tensorflow.keras.models import Sequential\n",
    "from tensorflow.keras.layers import Dense\n",
    "from tensorflow.keras import optimizers\n",
    "from tensorflow.keras import layers, models"
   ]
  },
  {
   "cell_type": "markdown",
   "id": "5fea0f46",
   "metadata": {},
   "source": [
    "### Determine the number of hidden layers"
   ]
  },
  {
   "cell_type": "code",
   "execution_count": 9,
   "id": "52409fad",
   "metadata": {},
   "outputs": [],
   "source": [
    "model = models.Sequential([\n",
    "\n",
    "    layers.Conv2D(64, (5, 5), activation='relu', input_shape=(50, 50,1)),\n",
    "\n",
    "    layers.MaxPooling2D((2, 2)),\n",
    "\n",
    "    layers.Conv2D(32, (3, 3), activation='relu'),\n",
    "\n",
    "    layers.MaxPooling2D((2, 2)),\n",
    "\n",
    "    layers.Conv2D(32, (3, 3), activation='relu'),\n",
    "\n",
    "    layers.Flatten(),\n",
    "\n",
    "    layers.Dense(64, activation='relu'),\n",
    "\n",
    "    layers.Dense(7, activation='softmax')\n",
    "])"
   ]
  },
  {
   "cell_type": "code",
   "execution_count": 10,
   "id": "21ba135c",
   "metadata": {},
   "outputs": [
    {
     "name": "stdout",
     "output_type": "stream",
     "text": [
      "Model: \"sequential\"\n",
      "_________________________________________________________________\n",
      " Layer (type)                Output Shape              Param #   \n",
      "=================================================================\n",
      " conv2d (Conv2D)             (None, 46, 46, 64)        1664      \n",
      "                                                                 \n",
      " max_pooling2d (MaxPooling2D  (None, 23, 23, 64)       0         \n",
      " )                                                               \n",
      "                                                                 \n",
      " conv2d_1 (Conv2D)           (None, 21, 21, 32)        18464     \n",
      "                                                                 \n",
      " max_pooling2d_1 (MaxPooling  (None, 10, 10, 32)       0         \n",
      " 2D)                                                             \n",
      "                                                                 \n",
      " conv2d_2 (Conv2D)           (None, 8, 8, 32)          9248      \n",
      "                                                                 \n",
      " flatten (Flatten)           (None, 2048)              0         \n",
      "                                                                 \n",
      " dense (Dense)               (None, 64)                131136    \n",
      "                                                                 \n",
      " dense_1 (Dense)             (None, 7)                 455       \n",
      "                                                                 \n",
      "=================================================================\n",
      "Total params: 160,967\n",
      "Trainable params: 160,967\n",
      "Non-trainable params: 0\n",
      "_________________________________________________________________\n"
     ]
    }
   ],
   "source": [
    "model.summary()"
   ]
  },
  {
   "cell_type": "code",
   "execution_count": 12,
   "id": "00332341",
   "metadata": {},
   "outputs": [
    {
     "name": "stdout",
     "output_type": "stream",
     "text": [
      "Epoch 1/10\n",
      "119/119 [==============================] - 5s 39ms/step - loss: 1.9460 - accuracy: 0.1393 - val_loss: 1.9466 - val_accuracy: 0.1214\n",
      "Epoch 2/10\n",
      "119/119 [==============================] - 5s 39ms/step - loss: 1.9460 - accuracy: 0.1452 - val_loss: 1.9463 - val_accuracy: 0.1214\n",
      "Epoch 3/10\n",
      "119/119 [==============================] - 5s 39ms/step - loss: 1.9460 - accuracy: 0.1370 - val_loss: 1.9463 - val_accuracy: 0.1345\n",
      "Epoch 4/10\n",
      "119/119 [==============================] - 5s 39ms/step - loss: 1.9460 - accuracy: 0.1440 - val_loss: 1.9465 - val_accuracy: 0.1214\n",
      "Epoch 5/10\n",
      "119/119 [==============================] - 5s 39ms/step - loss: 1.9460 - accuracy: 0.1452 - val_loss: 1.9465 - val_accuracy: 0.1214\n",
      "Epoch 6/10\n",
      "119/119 [==============================] - 5s 40ms/step - loss: 1.9460 - accuracy: 0.1422 - val_loss: 1.9465 - val_accuracy: 0.1214\n",
      "Epoch 7/10\n",
      "119/119 [==============================] - 5s 40ms/step - loss: 1.9460 - accuracy: 0.1340 - val_loss: 1.9467 - val_accuracy: 0.1214\n",
      "Epoch 8/10\n",
      "119/119 [==============================] - 5s 40ms/step - loss: 1.9460 - accuracy: 0.1406 - val_loss: 1.9467 - val_accuracy: 0.1214\n",
      "Epoch 9/10\n",
      "119/119 [==============================] - 5s 41ms/step - loss: 1.9460 - accuracy: 0.1452 - val_loss: 1.9467 - val_accuracy: 0.1214\n",
      "Epoch 10/10\n",
      "119/119 [==============================] - 5s 41ms/step - loss: 1.9460 - accuracy: 0.1452 - val_loss: 1.9468 - val_accuracy: 0.1214\n"
     ]
    }
   ],
   "source": [
    "# Compile the model\n",
    "model.compile(optimizer='adam',\n",
    "              loss='categorical_crossentropy',\n",
    "              metrics=['accuracy'])\n",
    "\n",
    "# Train the model on the training set and validate on the test set\n",
    "history = model.fit(X_train_img, y_train, epochs=10, batch_size = 64,\n",
    "                    validation_data=(X_test_img, y_test))"
   ]
  }
 ],
 "metadata": {
  "kernelspec": {
   "display_name": "Python 3 (ipykernel)",
   "language": "python",
   "name": "python3"
  },
  "language_info": {
   "codemirror_mode": {
    "name": "ipython",
    "version": 3
   },
   "file_extension": ".py",
   "mimetype": "text/x-python",
   "name": "python",
   "nbconvert_exporter": "python",
   "pygments_lexer": "ipython3",
   "version": "3.9.13"
  }
 },
 "nbformat": 4,
 "nbformat_minor": 5
}
